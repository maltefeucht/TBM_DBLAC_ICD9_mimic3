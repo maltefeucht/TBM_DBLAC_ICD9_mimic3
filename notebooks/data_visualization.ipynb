{
 "cells": [
  {
   "cell_type": "code",
   "execution_count": 1,
   "id": "administrative-convention",
   "metadata": {
    "scrolled": true
   },
   "outputs": [],
   "source": [
    "import sys\n",
    "sys.path.append('../')\n",
    "import numpy as np\n",
    "import pandas as pd\n",
    "import matplotlib.pyplot as plt\n",
    "from pandas.plotting import table\n",
    "from constants_mimic3 import MIMIC_3_DIR"
   ]
  },
  {
   "cell_type": "markdown",
   "id": "tribal-belief",
   "metadata": {},
   "source": [
    "#### Visualize full Mimic-III dataset (8921 codes)"
   ]
  },
  {
   "cell_type": "code",
   "execution_count": 2,
   "id": "premier-maryland",
   "metadata": {},
   "outputs": [],
   "source": [
    "df_full = pd.read_csv('%s/notes_labeled_binarized.csv' % MIMIC_3_DIR)"
   ]
  },
  {
   "cell_type": "code",
   "execution_count": 3,
   "id": "radical-sarah",
   "metadata": {
    "scrolled": true
   },
   "outputs": [
    {
     "name": "stdout",
     "output_type": "stream",
     "text": [
      " The train split has 52722 samples\n"
     ]
    }
   ],
   "source": [
    "# number of samples train split\n",
    "print(\" The train split has\", df_full.shape[0], \"samples\")"
   ]
  },
  {
   "cell_type": "code",
   "execution_count": 4,
   "id": "structural-stockholm",
   "metadata": {},
   "outputs": [
    {
     "data": {
      "text/plain": [
       "<AxesSubplot:title={'center':'Discharge Summary length Miimic-III'}, ylabel='Frequency'>"
      ]
     },
     "execution_count": 4,
     "metadata": {},
     "output_type": "execute_result"
    },
    {
     "data": {
      "image/png": "[encoded data removed]",
      "text/plain": [
       "<Figure size 432x288 with 1 Axes>"
      ]
     },
     "metadata": {
      "needs_background": "light"
     },
     "output_type": "display_data"
    }
   ],
   "source": [
    "# Plotting the length distribution of discharge summaries of the full dataset\n",
    "df_full['text_length'] = df_full.apply(lambda row: len(str(row['TEXT']).split()), axis=1)\n",
    "df_full['text_length'].plot(kind='hist', xlabel=\"Discharge summaries\", ylabel=\"Word Frequency\", title=\"Discharge Summary length Miimic-III\")"
   ]
  },
  {
   "cell_type": "code",
   "execution_count": 5,
   "id": "piano-interface",
   "metadata": {},
   "outputs": [
    {
     "data": {
      "text/plain": [
       "count    52722.000000\n",
       "mean      1513.529779\n",
       "std        773.253545\n",
       "min         51.000000\n",
       "25%        965.000000\n",
       "50%       1375.000000\n",
       "75%       1900.000000\n",
       "max      10500.000000\n",
       "Name: text_length, dtype: float64"
      ]
     },
     "execution_count": 5,
     "metadata": {},
     "output_type": "execute_result"
    }
   ],
   "source": [
    "# statistics on text length of discharge summaries of the full dataset\n",
    "df_full['text_length'].describe()"
   ]
  },
  {
   "cell_type": "code",
   "execution_count": 6,
   "id": "typical-savings",
   "metadata": {},
   "outputs": [],
   "source": [
    "# prepare data for label plot distribution\n",
    "df_full_labels = df_full.iloc[:, 4:-1]"
   ]
  },
  {
   "cell_type": "code",
   "execution_count": 7,
   "id": "meaningful-relative",
   "metadata": {},
   "outputs": [
    {
     "data": {
      "text/plain": [
       "<AxesSubplot:title={'center':'Mimic-III ICD9 Codes Distribution'}, ylabel='Density'>"
      ]
     },
     "execution_count": 7,
     "metadata": {},
     "output_type": "execute_result"
    },
    {
     "data": {
      "image/png": "[encoded data removed]",
      "text/plain": [
       "<Figure size 1080x360 with 1 Axes>"
      ]
     },
     "metadata": {
      "needs_background": "light"
     },
     "output_type": "display_data"
    }
   ],
   "source": [
    "# density plot\n",
    "df_full_labels.apply(lambda x: x.values.sum(), axis=0).plot(kind=\"kde\", figsize=(15,5), xlabel=\"ICD9 Codes\", ylabel=\"Frequency\", title = \"Mimic-III ICD9 Codes Distribution\")"
   ]
  },
  {
   "cell_type": "code",
   "execution_count": 8,
   "id": "antique-damage",
   "metadata": {},
   "outputs": [
    {
     "data": {
      "text/plain": [
       "V91.03        1\n",
       "800.82        1\n",
       "800.85        1\n",
       "290.10        1\n",
       "60.71         1\n",
       "          ...  \n",
       "414.01    12178\n",
       "427.31    12589\n",
       "428.0     12842\n",
       "38.93     12866\n",
       "401.9     20046\n",
       "Length: 8921, dtype: int64"
      ]
     },
     "execution_count": 8,
     "metadata": {},
     "output_type": "execute_result"
    }
   ],
   "source": [
    "# prepare statistics on label distribution\n",
    "df_full_labels.apply(lambda x: x.values.sum(), axis=0).sort_values(ascending=True)"
   ]
  },
  {
   "cell_type": "code",
   "execution_count": 9,
   "id": "assumed-mineral",
   "metadata": {},
   "outputs": [
    {
     "data": {
      "text/plain": [
       "count     8921.000000\n",
       "mean        93.865486\n",
       "std        537.051293\n",
       "min          1.000000\n",
       "25%          2.000000\n",
       "50%          6.000000\n",
       "75%         28.000000\n",
       "max      20046.000000\n",
       "dtype: float64"
      ]
     },
     "execution_count": 9,
     "metadata": {},
     "output_type": "execute_result"
    }
   ],
   "source": [
    "# get statistics on label distribution\n",
    "df_full_labels.apply(lambda x: x.values.sum(), axis=0).sort_values(ascending=True).describe()"
   ]
  },
  {
   "cell_type": "code",
   "execution_count": 10,
   "id": "artificial-scroll",
   "metadata": {},
   "outputs": [
    {
     "data": {
      "text/plain": [
       "<AxesSubplot:title={'center':'Mimic-III ICD9 Codes Distribution'}, xlabel='ICD9 Codes', ylabel='Frequency'>"
      ]
     },
     "execution_count": 10,
     "metadata": {},
     "output_type": "execute_result"
    },
    {
     "data": {
      "image/png": "[encoded data removed]",
      "text/plain": [
       "<Figure size 432x288 with 1 Axes>"
      ]
     },
     "metadata": {
      "needs_background": "light"
     },
     "output_type": "display_data"
    }
   ],
   "source": [
    "# bar plot\n",
    "df_full_labels.apply(lambda x: x.values.sum(), axis=0).sort_values(ascending=False).plot(kind=\"bar\", xlabel=\"ICD9 Codes\", ylabel=\"Frequency\", title = \"Mimic-III ICD9 Codes Distribution\")"
   ]
  },
  {
   "cell_type": "code",
   "execution_count": 11,
   "id": "modular-shuttle",
   "metadata": {},
   "outputs": [
    {
     "data": {
      "text/plain": [
       "<AxesSubplot:title={'center':'ICD9 Codes distribution Mimic-III '}, xlabel='ICD9 Codes', ylabel='Frequency'>"
      ]
     },
     "execution_count": 11,
     "metadata": {},
     "output_type": "execute_result"
    },
    {
     "data": {
      "image/png": "[encoded data removed]",
      "text/plain": [
       "<Figure size 432x288 with 1 Axes>"
      ]
     },
     "metadata": {
      "needs_background": "light"
     },
     "output_type": "display_data"
    }
   ],
   "source": [
    "# simple plot\n",
    "df_full_labels.apply(lambda x: x.values.sum(), axis=0).sort_values(ascending=False).plot(xlabel=\"ICD9 Codes\", ylabel=\"Frequency\", title = \"ICD9 Codes distribution Mimic-III \")"
   ]
  },
  {
   "cell_type": "code",
   "execution_count": 12,
   "id": "heavy-helena",
   "metadata": {},
   "outputs": [
    {
     "data": {
      "text/plain": [
       "count    52722.000000\n",
       "mean        15.882819\n",
       "std          8.138967\n",
       "min          1.000000\n",
       "25%         10.000000\n",
       "50%         14.000000\n",
       "75%         20.000000\n",
       "max         71.000000\n",
       "dtype: float64"
      ]
     },
     "execution_count": 12,
     "metadata": {},
     "output_type": "execute_result"
    }
   ],
   "source": [
    "# compute label metrics per sample\n",
    "df_full_labels.apply(lambda x: x.values.sum(), axis=1).describe()"
   ]
  },
  {
   "cell_type": "markdown",
   "id": "passive-juice",
   "metadata": {},
   "source": [
    "#### Visualize full Mimic-III dataset (8921 codes), train split"
   ]
  },
  {
   "cell_type": "code",
   "execution_count": 13,
   "id": "exotic-xerox",
   "metadata": {},
   "outputs": [],
   "source": [
    "df_full_train = pd.read_csv('%s/train_full_binarized.csv' % MIMIC_3_DIR)"
   ]
  },
  {
   "cell_type": "code",
   "execution_count": 14,
   "id": "important-mother",
   "metadata": {},
   "outputs": [
    {
     "name": "stdout",
     "output_type": "stream",
     "text": [
      " The train split has 47719 samples\n"
     ]
    }
   ],
   "source": [
    "# number of samples train split\n",
    "print(\" The train split has\", df_full_train.shape[0], \"samples\")"
   ]
  },
  {
   "cell_type": "code",
   "execution_count": 15,
   "id": "closing-joseph",
   "metadata": {
    "scrolled": true
   },
   "outputs": [
    {
     "data": {
      "text/plain": [
       "count    47719.000000\n",
       "mean      1484.559693\n",
       "std        769.282533\n",
       "min         51.000000\n",
       "25%        939.000000\n",
       "50%       1341.000000\n",
       "75%       1865.000000\n",
       "max      10500.000000\n",
       "Name: length, dtype: float64"
      ]
     },
     "execution_count": 15,
     "metadata": {},
     "output_type": "execute_result"
    }
   ],
   "source": [
    "# statistics on text length of discharge summaries of the full train dataset\n",
    "df_full_train['length'].describe()"
   ]
  },
  {
   "cell_type": "code",
   "execution_count": 16,
   "id": "solid-assist",
   "metadata": {},
   "outputs": [],
   "source": [
    "df_full_train_labels = df_full_train.iloc[:, 4:-1]"
   ]
  },
  {
   "cell_type": "code",
   "execution_count": 17,
   "id": "exterior-trash",
   "metadata": {},
   "outputs": [
    {
     "data": {
      "text/plain": [
       "<AxesSubplot:title={'center':'Mimic-III ICD9 Codes Distribution'}, xlabel='ICD9 Codes', ylabel='Frequency'>"
      ]
     },
     "execution_count": 17,
     "metadata": {},
     "output_type": "execute_result"
    },
    {
     "data": {
      "image/png": "[encoded data removed]",
      "text/plain": [
       "<Figure size 432x288 with 1 Axes>"
      ]
     },
     "metadata": {
      "needs_background": "light"
     },
     "output_type": "display_data"
    }
   ],
   "source": [
    "# full train label plot\n",
    "df_full_train_labels.apply(lambda x: x.values.sum(), axis=0).sort_values(ascending=False).plot(xlabel=\"ICD9 Codes\", ylabel=\"Frequency\", title = \"Mimic-III ICD9 Codes Distribution\")"
   ]
  },
  {
   "cell_type": "code",
   "execution_count": 18,
   "id": "above-scenario",
   "metadata": {},
   "outputs": [
    {
     "data": {
      "text/plain": [
       "count    47719.000000\n",
       "mean        15.681511\n",
       "std          8.052220\n",
       "min          1.000000\n",
       "25%         10.000000\n",
       "50%         14.000000\n",
       "75%         20.000000\n",
       "max         71.000000\n",
       "dtype: float64"
      ]
     },
     "execution_count": 18,
     "metadata": {},
     "output_type": "execute_result"
    }
   ],
   "source": [
    "# compute label metrics per sample\n",
    "df_full_train_labels.apply(lambda x: x.values.sum(), axis=1).describe()"
   ]
  },
  {
   "cell_type": "markdown",
   "id": "early-password",
   "metadata": {},
   "source": [
    "#### Visualize full Mimic-III dataset (8921 codes), val split"
   ]
  },
  {
   "cell_type": "code",
   "execution_count": 19,
   "id": "initial-wheel",
   "metadata": {},
   "outputs": [],
   "source": [
    "df_full_val = pd.read_csv('%s/dev_full_binarized.csv' % MIMIC_3_DIR)"
   ]
  },
  {
   "cell_type": "code",
   "execution_count": 20,
   "id": "institutional-persian",
   "metadata": {},
   "outputs": [
    {
     "name": "stdout",
     "output_type": "stream",
     "text": [
      " The val split has 1631 samples\n"
     ]
    }
   ],
   "source": [
    "print(\" The val split has\", df_full_val.shape[0], \"samples\")"
   ]
  },
  {
   "cell_type": "code",
   "execution_count": 21,
   "id": "extended-helena",
   "metadata": {},
   "outputs": [
    {
     "data": {
      "text/plain": [
       "count    1631.000000\n",
       "mean     1784.714899\n",
       "std       758.065561\n",
       "min       230.000000\n",
       "25%      1273.500000\n",
       "50%      1648.000000\n",
       "75%      2127.500000\n",
       "max      6331.000000\n",
       "Name: length, dtype: float64"
      ]
     },
     "execution_count": 21,
     "metadata": {},
     "output_type": "execute_result"
    }
   ],
   "source": [
    "# statistics on text length of discharge summaries of the full val dataset\n",
    "df_full_val['length'].describe()"
   ]
  },
  {
   "cell_type": "code",
   "execution_count": 22,
   "id": "civil-surname",
   "metadata": {},
   "outputs": [],
   "source": [
    "df_full_val_labels = df_full_val.iloc[:, 4:-1]"
   ]
  },
  {
   "cell_type": "code",
   "execution_count": 23,
   "id": "sized-friend",
   "metadata": {},
   "outputs": [
    {
     "data": {
      "text/plain": [
       "<AxesSubplot:title={'center':'Mimic-III ICD9 Codes Distribution'}, xlabel='ICD9 Codes', ylabel='Frequency'>"
      ]
     },
     "execution_count": 23,
     "metadata": {},
     "output_type": "execute_result"
    },
    {
     "data": {
      "image/png": "[encoded data removed]",
      "text/plain": [
       "<Figure size 432x288 with 1 Axes>"
      ]
     },
     "metadata": {
      "needs_background": "light"
     },
     "output_type": "display_data"
    }
   ],
   "source": [
    "# full val label plot\n",
    "df_full_val_labels.apply(lambda x: x.values.sum(), axis=0).sort_values(ascending=False).plot(xlabel=\"ICD9 Codes\", ylabel=\"Frequency\", title = \"Mimic-III ICD9 Codes Distribution\")"
   ]
  },
  {
   "cell_type": "code",
   "execution_count": 24,
   "id": "aware-facial",
   "metadata": {},
   "outputs": [
    {
     "data": {
      "text/plain": [
       "count    1631.000000\n",
       "mean       17.413857\n",
       "std         8.482810\n",
       "min         2.000000\n",
       "25%        11.000000\n",
       "50%        16.000000\n",
       "75%        22.000000\n",
       "max        58.000000\n",
       "dtype: float64"
      ]
     },
     "execution_count": 24,
     "metadata": {},
     "output_type": "execute_result"
    }
   ],
   "source": [
    "# compute label metrics per sample\n",
    "df_full_val_labels.apply(lambda x: x.values.sum(), axis=1).describe()"
   ]
  },
  {
   "cell_type": "markdown",
   "id": "general-israel",
   "metadata": {},
   "source": [
    "#### Visualize full Mimic-III dataset (8921 codes), test split"
   ]
  },
  {
   "cell_type": "code",
   "execution_count": 25,
   "id": "differential-theory",
   "metadata": {},
   "outputs": [],
   "source": [
    "df_full_test = pd.read_csv('%s/test_full_binarized.csv' % MIMIC_3_DIR)"
   ]
  },
  {
   "cell_type": "code",
   "execution_count": 26,
   "id": "fuzzy-rogers",
   "metadata": {},
   "outputs": [
    {
     "name": "stdout",
     "output_type": "stream",
     "text": [
      " The test split has 3372 samples\n"
     ]
    }
   ],
   "source": [
    "print(\" The test split has\", df_full_test.shape[0], \"samples\")"
   ]
  },
  {
   "cell_type": "code",
   "execution_count": 27,
   "id": "enabling-mississippi",
   "metadata": {},
   "outputs": [
    {
     "data": {
      "text/plain": [
       "count    3372.000000\n",
       "mean     1792.331851\n",
       "std       755.654728\n",
       "min       224.000000\n",
       "25%      1267.000000\n",
       "50%      1683.000000\n",
       "75%      2153.250000\n",
       "max      7109.000000\n",
       "Name: length, dtype: float64"
      ]
     },
     "execution_count": 27,
     "metadata": {},
     "output_type": "execute_result"
    }
   ],
   "source": [
    "# statistics on text length of discharge summaries of the full val dataset\n",
    "df_full_test['length'].describe()"
   ]
  },
  {
   "cell_type": "code",
   "execution_count": 28,
   "id": "agreed-fairy",
   "metadata": {},
   "outputs": [],
   "source": [
    "df_full_test_labels = df_full_test.iloc[:, 4:-1]"
   ]
  },
  {
   "cell_type": "code",
   "execution_count": 29,
   "id": "informative-guinea",
   "metadata": {},
   "outputs": [
    {
     "data": {
      "text/plain": [
       "<AxesSubplot:title={'center':'Mimic-III ICD9 Codes Distribution'}, xlabel='ICD9 Codes', ylabel='Frequency'>"
      ]
     },
     "execution_count": 29,
     "metadata": {},
     "output_type": "execute_result"
    },
    {
     "data": {
      "image/png": "[encoded data removed]",
      "text/plain": [
       "<Figure size 432x288 with 1 Axes>"
      ]
     },
     "metadata": {
      "needs_background": "light"
     },
     "output_type": "display_data"
    }
   ],
   "source": [
    "# full val label plot\n",
    "df_full_test_labels.apply(lambda x: x.values.sum(), axis=0).sort_values(ascending=False).plot(xlabel=\"ICD9 Codes\", ylabel=\"Frequency\", title = \"Mimic-III ICD9 Codes Distribution\")"
   ]
  },
  {
   "cell_type": "code",
   "execution_count": 30,
   "id": "thermal-drive",
   "metadata": {},
   "outputs": [
    {
     "data": {
      "text/plain": [
       "count    3372.000000\n",
       "mean       17.991103\n",
       "std         8.788995\n",
       "min         1.000000\n",
       "25%        12.000000\n",
       "50%        17.000000\n",
       "75%        23.000000\n",
       "max        65.000000\n",
       "dtype: float64"
      ]
     },
     "execution_count": 30,
     "metadata": {},
     "output_type": "execute_result"
    }
   ],
   "source": [
    "# compute label metrics per sample\n",
    "df_full_test_labels.apply(lambda x: x.values.sum(), axis=1).describe()"
   ]
  },
  {
   "cell_type": "markdown",
   "id": "stopped-description",
   "metadata": {},
   "source": [
    "#### Visualize Mimic-III-50 dataset (50 codes)"
   ]
  },
  {
   "cell_type": "code",
   "execution_count": 31,
   "id": "empirical-norwegian",
   "metadata": {},
   "outputs": [],
   "source": [
    "# load all splits\n",
    "df_50_train = pd.read_csv('%s/train_50_binarized.csv' % MIMIC_3_DIR)\n",
    "df_50_val = pd.read_csv('%s/dev_50_binarized.csv' % MIMIC_3_DIR)\n",
    "df_50_test = pd.read_csv('%s/test_50_binarized.csv' % MIMIC_3_DIR)"
   ]
  },
  {
   "cell_type": "code",
   "execution_count": 32,
   "id": "banner-vegetation",
   "metadata": {},
   "outputs": [
    {
     "name": "stdout",
     "output_type": "stream",
     "text": [
      " The train split has 8066 samples\n",
      " The val split has 1573 samples\n",
      " The test split has 1729 samples\n"
     ]
    }
   ],
   "source": [
    "print(\" The train split has\", df_50_train.shape[0], \"samples\")\n",
    "print(\" The val split has\", df_50_val.shape[0], \"samples\")\n",
    "print(\" The test split has\", df_50_test.shape[0], \"samples\")"
   ]
  },
  {
   "cell_type": "code",
   "execution_count": 33,
   "id": "canadian-hampton",
   "metadata": {},
   "outputs": [
    {
     "name": "stdout",
     "output_type": "stream",
     "text": [
      " The full dataset has 11368 samples\n"
     ]
    }
   ],
   "source": [
    "# construct a full top 50 dataset\n",
    "frames_50 = [df_50_train, df_50_val , df_50_test]\n",
    "df_50_full = pd.concat(frames_50)\n",
    "print(\" The full dataset has\", df_50_full.shape[0], \"samples\")\n"
   ]
  },
  {
   "cell_type": "code",
   "execution_count": 34,
   "id": "disciplinary-extent",
   "metadata": {},
   "outputs": [
    {
     "data": {
      "text/plain": [
       "<AxesSubplot:title={'center':'Discharge Summary length Miimic-III-50'}, ylabel='Frequency'>"
      ]
     },
     "execution_count": 34,
     "metadata": {},
     "output_type": "execute_result"
    },
    {
     "data": {
      "image/png": "[encoded data removed]",
      "text/plain": [
       "<Figure size 432x288 with 1 Axes>"
      ]
     },
     "metadata": {
      "needs_background": "light"
     },
     "output_type": "display_data"
    }
   ],
   "source": [
    "# Plotting the length distribution of discharge summaries of the full dataset\n",
    "df_50_full['length'].plot(kind='hist', xlabel=\"test\", ylabel=\"Frequency\", title=\"Discharge Summary length Miimic-III-50\")"
   ]
  },
  {
   "cell_type": "code",
   "execution_count": 35,
   "id": "olive-nation",
   "metadata": {
    "scrolled": true
   },
   "outputs": [
    {
     "data": {
      "text/plain": [
       "count    11368.000000\n",
       "mean      1612.071253\n",
       "std        788.382258\n",
       "min        105.000000\n",
       "25%       1065.000000\n",
       "50%       1478.000000\n",
       "75%       1992.000000\n",
       "max       7567.000000\n",
       "Name: length, dtype: float64"
      ]
     },
     "execution_count": 35,
     "metadata": {},
     "output_type": "execute_result"
    }
   ],
   "source": [
    "# statistics on text length of discharge summaries of the full dataset\n",
    "df_50_full['length'].describe()"
   ]
  },
  {
   "cell_type": "code",
   "execution_count": 36,
   "id": "collective-syndication",
   "metadata": {
    "scrolled": false
   },
   "outputs": [],
   "source": [
    "df_50_full_labels = df_50_full.iloc[:, 4:-1]"
   ]
  },
  {
   "cell_type": "code",
   "execution_count": 37,
   "id": "usual-oakland",
   "metadata": {},
   "outputs": [
    {
     "data": {
      "text/plain": [
       "<AxesSubplot:title={'center':'ICD9 Codes distribution Mimic-III-50'}, xlabel='ICD9 Codes', ylabel='Frequency'>"
      ]
     },
     "execution_count": 37,
     "metadata": {},
     "output_type": "execute_result"
    },
    {
     "data": {
      "image/png": "[encoded data removed]",
      "text/plain": [
       "<Figure size 432x288 with 1 Axes>"
      ]
     },
     "metadata": {
      "needs_background": "light"
     },
     "output_type": "display_data"
    }
   ],
   "source": [
    "df_50_full_labels.apply(lambda x: x.values.sum(), axis=0).sort_values(ascending=False).plot(xlabel=\"ICD9 Codes\", ylabel=\"Frequency\", title = \"ICD9 Codes distribution Mimic-III-50\")"
   ]
  },
  {
   "cell_type": "code",
   "execution_count": 38,
   "id": "pleased-priest",
   "metadata": {},
   "outputs": [
    {
     "data": {
      "text/plain": [
       "<AxesSubplot:title={'center':'ICD9 Codes distribution Mimic-III-50'}, xlabel='ICD9 Codes', ylabel='Frequency'>"
      ]
     },
     "execution_count": 38,
     "metadata": {},
     "output_type": "execute_result"
    },
    {
     "data": {
      "image/png": "[encoded data removed]",
      "text/plain": [
       "<Figure size 432x288 with 1 Axes>"
      ]
     },
     "metadata": {
      "needs_background": "light"
     },
     "output_type": "display_data"
    }
   ],
   "source": [
    "# bar plot\n",
    "df_50_full_labels.apply(lambda x: x.values.sum(), axis=0).sort_values(ascending=False).plot(kind=\"bar\", xlabel=\"ICD9 Codes\", ylabel=\"Frequency\", title = \"ICD9 Codes distribution Mimic-III-50\")"
   ]
  },
  {
   "cell_type": "code",
   "execution_count": 39,
   "id": "elder-mobile",
   "metadata": {},
   "outputs": [
    {
     "data": {
      "text/plain": [
       "<AxesSubplot:title={'center':'Mimic-III ICD9 Codes Distribution'}, ylabel='Density'>"
      ]
     },
     "execution_count": 39,
     "metadata": {},
     "output_type": "execute_result"
    },
    {
     "data": {
      "image/png": "[encoded data removed]",
      "text/plain": [
       "<Figure size 432x288 with 1 Axes>"
      ]
     },
     "metadata": {
      "needs_background": "light"
     },
     "output_type": "display_data"
    }
   ],
   "source": [
    "# density plot\n",
    "df_50_full_labels.apply(lambda x: x.values.sum(), axis=0).sort_values(ascending=False).plot(kind=\"kde\", xlabel=\"ICD9 Codes\", ylabel=\"Frequency\", title = \"Mimic-III ICD9 Codes Distribution\")"
   ]
  },
  {
   "cell_type": "code",
   "execution_count": 40,
   "id": "infinite-instrument",
   "metadata": {},
   "outputs": [
    {
     "data": {
      "text/plain": [
       "count      50.000000\n",
       "mean     1313.580000\n",
       "std       817.809745\n",
       "min       546.000000\n",
       "25%       751.750000\n",
       "50%      1021.000000\n",
       "75%      1531.500000\n",
       "max      4719.000000\n",
       "dtype: float64"
      ]
     },
     "execution_count": 40,
     "metadata": {},
     "output_type": "execute_result"
    }
   ],
   "source": [
    "# label metrics per label class\n",
    "df_50_full_labels.apply(lambda x: x.values.sum(), axis=0).sort_values(ascending=True).describe()"
   ]
  },
  {
   "cell_type": "code",
   "execution_count": 41,
   "id": "annual-mercy",
   "metadata": {},
   "outputs": [
    {
     "data": {
      "text/plain": [
       "count    11368.000000\n",
       "mean         5.777533\n",
       "std          3.374129\n",
       "min          1.000000\n",
       "25%          3.000000\n",
       "50%          5.000000\n",
       "75%          8.000000\n",
       "max         24.000000\n",
       "dtype: float64"
      ]
     },
     "execution_count": 41,
     "metadata": {},
     "output_type": "execute_result"
    }
   ],
   "source": [
    "# compute label metrics per sample\n",
    "df_50_full_labels.apply(lambda x: x.values.sum(), axis=1).describe()"
   ]
  },
  {
   "cell_type": "markdown",
   "id": "incorrect-medication",
   "metadata": {},
   "source": [
    "#### Visualize Mimic-III-50 dataset (50 codes), train split"
   ]
  },
  {
   "cell_type": "code",
   "execution_count": 42,
   "id": "falling-effectiveness",
   "metadata": {},
   "outputs": [
    {
     "data": {
      "text/plain": [
       "count    8066.000000\n",
       "mean     1529.696132\n",
       "std       784.930705\n",
       "min       105.000000\n",
       "25%       979.000000\n",
       "50%      1387.500000\n",
       "75%      1904.000000\n",
       "max      7567.000000\n",
       "Name: length, dtype: float64"
      ]
     },
     "execution_count": 42,
     "metadata": {},
     "output_type": "execute_result"
    }
   ],
   "source": [
    "# Plotting the length distribution of discharge summaries of the full dataset\n",
    "df_50_train['length'].describe()"
   ]
  },
  {
   "cell_type": "code",
   "execution_count": 43,
   "id": "brown-bumper",
   "metadata": {},
   "outputs": [],
   "source": [
    "df_50_train_labels = df_50_train.iloc[:, 4:-1]"
   ]
  },
  {
   "cell_type": "code",
   "execution_count": 44,
   "id": "geological-recruitment",
   "metadata": {},
   "outputs": [
    {
     "data": {
      "text/plain": [
       "<AxesSubplot:title={'center':'Mimic-III ICD9 Codes Distribution'}, xlabel='ICD9 Codes', ylabel='Frequency'>"
      ]
     },
     "execution_count": 44,
     "metadata": {},
     "output_type": "execute_result"
    },
    {
     "data": {
      "image/png": "[encoded data removed]",
      "text/plain": [
       "<Figure size 432x288 with 1 Axes>"
      ]
     },
     "metadata": {
      "needs_background": "light"
     },
     "output_type": "display_data"
    }
   ],
   "source": [
    "df_50_train_labels.apply(lambda x: x.values.sum(), axis=0).sort_values(ascending=False).plot(xlabel=\"ICD9 Codes\", ylabel=\"Frequency\", title = \"Mimic-III ICD9 Codes Distribution\")"
   ]
  },
  {
   "cell_type": "code",
   "execution_count": 45,
   "id": "centered-dallas",
   "metadata": {},
   "outputs": [
    {
     "data": {
      "text/plain": [
       "count    8066.000000\n",
       "mean        5.692909\n",
       "std         3.320199\n",
       "min         1.000000\n",
       "25%         3.000000\n",
       "50%         5.000000\n",
       "75%         8.000000\n",
       "max        24.000000\n",
       "dtype: float64"
      ]
     },
     "execution_count": 45,
     "metadata": {},
     "output_type": "execute_result"
    }
   ],
   "source": [
    "# compute label metrics per sample\n",
    "df_50_train_labels.apply(lambda x: x.values.sum(), axis=1).describe()"
   ]
  },
  {
   "cell_type": "markdown",
   "id": "instant-alberta",
   "metadata": {},
   "source": [
    "#### Visualize Mimic-III-50 dataset (50 codes), val split"
   ]
  },
  {
   "cell_type": "code",
   "execution_count": 46,
   "id": "continental-andrew",
   "metadata": {},
   "outputs": [
    {
     "data": {
      "text/plain": [
       "count    1573.000000\n",
       "mean     1799.678957\n",
       "std       760.887104\n",
       "min       230.000000\n",
       "25%      1290.000000\n",
       "50%      1664.000000\n",
       "75%      2150.000000\n",
       "max      6331.000000\n",
       "Name: length, dtype: float64"
      ]
     },
     "execution_count": 46,
     "metadata": {},
     "output_type": "execute_result"
    }
   ],
   "source": [
    "# Plotting the length distribution of discharge summaries of the full dataset\n",
    "df_50_val['length'].describe()"
   ]
  },
  {
   "cell_type": "code",
   "execution_count": 47,
   "id": "conditional-young",
   "metadata": {},
   "outputs": [],
   "source": [
    "df_50_val_labels = df_50_val.iloc[:, 4:-1]"
   ]
  },
  {
   "cell_type": "code",
   "execution_count": 48,
   "id": "automatic-black",
   "metadata": {
    "scrolled": true
   },
   "outputs": [
    {
     "data": {
      "text/plain": [
       "<AxesSubplot:title={'center':'Mimic-III ICD9 Codes Distribution'}, xlabel='ICD9 Codes', ylabel='Frequency'>"
      ]
     },
     "execution_count": 48,
     "metadata": {},
     "output_type": "execute_result"
    },
    {
     "data": {
      "image/png": "[encoded data removed]",
      "text/plain": [
       "<Figure size 432x288 with 1 Axes>"
      ]
     },
     "metadata": {
      "needs_background": "light"
     },
     "output_type": "display_data"
    }
   ],
   "source": [
    "df_50_val_labels.apply(lambda x: x.values.sum(), axis=0).sort_values(ascending=False).plot(xlabel=\"ICD9 Codes\", ylabel=\"Frequency\", title = \"Mimic-III ICD9 Codes Distribution\")"
   ]
  },
  {
   "cell_type": "code",
   "execution_count": 49,
   "id": "paperback-relief",
   "metadata": {},
   "outputs": [
    {
     "data": {
      "text/plain": [
       "count    1573.000000\n",
       "mean        5.901462\n",
       "std         3.482940\n",
       "min         1.000000\n",
       "25%         3.000000\n",
       "50%         5.000000\n",
       "75%         8.000000\n",
       "max        21.000000\n",
       "dtype: float64"
      ]
     },
     "execution_count": 49,
     "metadata": {},
     "output_type": "execute_result"
    }
   ],
   "source": [
    "# compute label metrics per sample\n",
    "df_50_val_labels.apply(lambda x: x.values.sum(), axis=1).describe()"
   ]
  },
  {
   "cell_type": "markdown",
   "id": "fatty-auction",
   "metadata": {},
   "source": [
    "#### Visualize Mimic-III-50 dataset (50 codes), test split"
   ]
  },
  {
   "cell_type": "code",
   "execution_count": 50,
   "id": "geological-limit",
   "metadata": {},
   "outputs": [
    {
     "data": {
      "text/plain": [
       "count    1729.000000\n",
       "mean     1825.680740\n",
       "std       759.600825\n",
       "min       235.000000\n",
       "25%      1299.000000\n",
       "50%      1700.000000\n",
       "75%      2195.000000\n",
       "max      6116.000000\n",
       "Name: length, dtype: float64"
      ]
     },
     "execution_count": 50,
     "metadata": {},
     "output_type": "execute_result"
    }
   ],
   "source": [
    "# Plotting the length distribution of discharge summaries of the full dataset\n",
    "df_50_test['length'].describe()"
   ]
  },
  {
   "cell_type": "code",
   "execution_count": 51,
   "id": "radio-pottery",
   "metadata": {},
   "outputs": [],
   "source": [
    "df_50_test_labels = df_50_test.iloc[:, 4:-1]"
   ]
  },
  {
   "cell_type": "code",
   "execution_count": 52,
   "id": "brown-belize",
   "metadata": {
    "scrolled": false
   },
   "outputs": [
    {
     "data": {
      "text/plain": [
       "<AxesSubplot:title={'center':'Mimic-III ICD9 Codes Distribution'}, xlabel='ICD9 Codes', ylabel='Frequency'>"
      ]
     },
     "execution_count": 52,
     "metadata": {},
     "output_type": "execute_result"
    },
    {
     "data": {
      "image/png": "[encoded data removed]",
      "text/plain": [
       "<Figure size 432x288 with 1 Axes>"
      ]
     },
     "metadata": {
      "needs_background": "light"
     },
     "output_type": "display_data"
    }
   ],
   "source": [
    "df_50_test_labels.apply(lambda x: x.values.sum(), axis=0).sort_values(ascending=False).plot(xlabel=\"ICD9 Codes\", ylabel=\"Frequency\", title = \"Mimic-III ICD9 Codes Distribution\")"
   ]
  },
  {
   "cell_type": "code",
   "execution_count": 53,
   "id": "roman-marshall",
   "metadata": {},
   "outputs": [
    {
     "data": {
      "text/plain": [
       "count    1729.000000\n",
       "mean        6.059572\n",
       "std         3.503872\n",
       "min         1.000000\n",
       "25%         3.000000\n",
       "50%         6.000000\n",
       "75%         8.000000\n",
       "max        20.000000\n",
       "dtype: float64"
      ]
     },
     "execution_count": 53,
     "metadata": {},
     "output_type": "execute_result"
    }
   ],
   "source": [
    "# compute label metrics per sample\n",
    "df_50_test_labels.apply(lambda x: x.values.sum(), axis=1).describe()"
   ]
  }
 ],
 "metadata": {
  "kernelspec": {
   "display_name": "Python 3 (ipykernel)",
   "language": "python",
   "name": "python3"
  },
  "language_info": {
   "codemirror_mode": {
    "name": "ipython",
    "version": 3
   },
   "file_extension": ".py",
   "mimetype": "text/x-python",
   "name": "python",
   "nbconvert_exporter": "python",
   "pygments_lexer": "ipython3",
   "version": "3.8.7"
  }
 },
 "nbformat": 4,
 "nbformat_minor": 5
}
